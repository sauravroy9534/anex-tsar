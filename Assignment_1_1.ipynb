{
  "nbformat": 4,
  "nbformat_minor": 0,
  "metadata": {
    "colab": {
      "name": "Assignment 1.1.ipynb",
      "private_outputs": true,
      "provenance": [],
      "authorship_tag": "ABX9TyOnNPGBM3e+ofGH172CQqcz",
      "include_colab_link": true
    },
    "kernelspec": {
      "name": "python3",
      "display_name": "Python 3"
    },
    "language_info": {
      "name": "python"
    }
  },
  "cells": [
    {
      "cell_type": "markdown",
      "metadata": {
        "id": "view-in-github",
        "colab_type": "text"
      },
      "source": [
        "<a href=\"https://colab.research.google.com/github/sauravroy9534/anex-tsar/blob/master/Assignment_1_1.ipynb\" target=\"_parent\"><img src=\"https://colab.research.google.com/assets/colab-badge.svg\" alt=\"Open In Colab\"/></a>"
      ]
    },
    {
      "cell_type": "code",
      "execution_count": null,
      "metadata": {
        "id": "_I82JkOWfsij"
      },
      "outputs": [],
      "source": [
        "#Linear programming problem\n",
        "\n",
        "from shapely.geometry import LineString\n",
        "from matplotlib import pyplot as plt\n",
        "\n",
        "x1=int(input())\n",
        "y1=int(input())\n",
        "c1=int(input())\n",
        "x2=int(input())\n",
        "y2=int(input())\n",
        "c2=int(input())\n",
        "x3 = int(input())\n",
        "y3=int(input())\n",
        "c3=int(input())\n",
        "\n",
        "k1 = c1/x1\n",
        "k2 = c2/x2\n",
        "k3 = c1/y1\n",
        "k4 = c2/y2\n",
        "k5 = c3/x3\n",
        "k6 = c3/y3\n",
        "\n",
        "x1 = (k1, 0)\n",
        "x2 = (k2, 0)\n",
        "y1 = (0, k3)\n",
        "y2 = (0, k4)\n",
        "x3 = (k5, 0)\n",
        "y3 = (0, k6)\n",
        "\n",
        "plt.plot(x1, y1)\n",
        "plt.plot(x2, y2)\n",
        "plt.plot(x3, y3)\n",
        "\n",
        "plt.xlabel('x-axis')\n",
        "plt.ylabel('y-axis')\n",
        "plt.title('plotting')\n",
        "\n",
        "line1 = LineString([x1, y1])\n",
        "line2 = LineString([x2, y2])\n",
        "line3 = LineString([x3, y3])\n",
        "\n",
        "intersection1 = line1.intersection(line2)\n",
        "intersection2 = line1.intersection(line3)\n",
        "intersection3 = line3.intersection(line2)\n",
        "\n",
        "plt.plot(*intersection1.xy, 'ro')\n",
        "plt.plot(*intersection2.xy, 'ro')\n",
        "plt.plot(*intersection3.xy, 'ro')\n",
        "plt.show()\n",
        "\n",
        "p1,q1 = intersection1.xy\n",
        "p2,q2 = intersection2.xy\n",
        "p3,q3 = intersection3.xy\n",
        "print(\"point of intersection:\")\n",
        "print(f'({p1[0]}, {q1[0]})')\n",
        "print(f'({p2[0]}, {q2[0]})')\n",
        "print(f'({p3[0]}, {q3[0]})')\n",
        "print(\"The optimised point are \")\n",
        "if((3*p1[0]+2*q1[0])<(3*p2[0]+2*q2[0])):\n",
        "  if((3*p1[0]+2*q1[0])<(3*p3[0]+2*q3[0])):\n",
        "    print(f'({p1[0]} , {q1[0]})')\n",
        "  else:\n",
        "    print(f'({p3[0]},{q3[0]})')\n",
        "else:\n",
        "  if((3*p2[0]+2*q2[0])<(3*p3[0]+2*q3[0])):\n",
        "    print(f'({p2[0]}) , ({q2[0]})')\n",
        "  else:\n",
        "    print(f'({p3[0]} , {q3[0]})')\n",
        "\n",
        "\n",
        "   "
      ]
    }
  ]
}